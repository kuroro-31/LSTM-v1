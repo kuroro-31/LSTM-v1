{
  "nbformat": 4,
  "nbformat_minor": 0,
  "metadata": {
    "colab": {
      "provenance": [],
      "gpuType": "T4",
      "authorship_tag": "ABX9TyOTCwyPPm7p0WY9/SvY0PwI",
      "include_colab_link": true
    },
    "kernelspec": {
      "name": "python3",
      "display_name": "Python 3"
    },
    "language_info": {
      "name": "python"
    },
    "accelerator": "GPU",
    "gpuClass": "standard"
  },
  "cells": [
    {
      "cell_type": "markdown",
      "metadata": {
        "id": "view-in-github",
        "colab_type": "text"
      },
      "source": [
        "<a href=\"https://colab.research.google.com/github/kuroro-31/LSTM-v1/blob/master/LSTM_99_5_.ipynb\" target=\"_parent\"><img src=\"https://colab.research.google.com/assets/colab-badge.svg\" alt=\"Open In Colab\"/></a>"
      ]
    },
    {
      "cell_type": "code",
      "source": [
        "# 必要なライブラリのインポート\n",
        "import numpy as np\n",
        "import pandas as pd\n",
        "from keras.models import Sequential\n",
        "from keras.layers import Dense, LSTM, Dropout\n",
        "from sklearn.preprocessing import MinMaxScaler\n",
        "import yfinance as yf\n",
        "import datetime\n",
        "\n",
        "today = datetime.date.today()"
      ],
      "metadata": {
        "id": "Vf_xNnymjLsY"
      },
      "execution_count": null,
      "outputs": []
    },
    {
      "cell_type": "code",
      "source": [
        "# データの取得\n",
        "data = yf.download('8058.T', start='2010-01-01', end=today)\n",
        "\n",
        "# クロージング価格のみを使用\n",
        "close_price = data.iloc[:, 3:4].values\n",
        "\n",
        "# データの正規化\n",
        "scaler = MinMaxScaler()\n",
        "close_price_scaled = scaler.fit_transform(close_price)\n",
        "\n",
        "# 過去60日分のデータを使用して次の日の株価を予測\n",
        "X_train = []\n",
        "y_train = []\n",
        "\n",
        "for i in range(60, len(close_price)):\n",
        "    X_train.append(close_price_scaled[i-60:i, 0])\n",
        "    y_train.append(close_price_scaled[i, 0])\n",
        "    \n",
        "X_train, y_train = np.array(X_train), np.array(y_train)\n",
        "\n",
        "# LSTMへの入力に適した形に変形\n",
        "X_train = np.reshape(X_train, (X_train.shape[0], X_train.shape[1], 1))\n",
        "\n",
        "# LSTMネットワークの作成\n",
        "model = Sequential()\n",
        "model.add(LSTM(units=50, return_sequences=True, input_shape=(X_train.shape[1], 1)))\n",
        "model.add(Dropout(0.2))\n",
        "model.add(LSTM(units=50, return_sequences=False))\n",
        "model.add(Dropout(0.2))\n",
        "model.add(Dense(units=1))"
      ],
      "metadata": {
        "colab": {
          "base_uri": "https://localhost:8080/"
        },
        "id": "ybsQfE-sjQhW",
        "outputId": "e06eae92-55c0-43c9-ccc5-49154bf66717"
      },
      "execution_count": null,
      "outputs": [
        {
          "output_type": "stream",
          "name": "stdout",
          "text": [
            "\r[*********************100%***********************]  1 of 1 completed\n"
          ]
        }
      ]
    },
    {
      "cell_type": "code",
      "source": [
        "# モデルのコンパイルと学習\n",
        "model.compile(optimizer='adam', loss='mean_squared_error')\n",
        "model.fit(X_train, y_train, epochs=50, batch_size=64)"
      ],
      "metadata": {
        "colab": {
          "base_uri": "https://localhost:8080/"
        },
        "id": "v0zIHr24jXGU",
        "outputId": "b379f5f6-0c13-4f24-d8df-db81b01d6383"
      },
      "execution_count": null,
      "outputs": [
        {
          "output_type": "stream",
          "name": "stdout",
          "text": [
            "Epoch 1/50\n",
            "51/51 [==============================] - 14s 9ms/step - loss: 0.0135\n",
            "Epoch 2/50\n",
            "51/51 [==============================] - 0s 7ms/step - loss: 0.0019\n",
            "Epoch 3/50\n",
            "51/51 [==============================] - 0s 8ms/step - loss: 0.0018\n",
            "Epoch 4/50\n",
            "51/51 [==============================] - 0s 7ms/step - loss: 0.0016\n",
            "Epoch 5/50\n",
            "51/51 [==============================] - 0s 8ms/step - loss: 0.0016\n",
            "Epoch 6/50\n",
            "51/51 [==============================] - 0s 8ms/step - loss: 0.0014\n",
            "Epoch 7/50\n",
            "51/51 [==============================] - 0s 8ms/step - loss: 0.0014\n",
            "Epoch 8/50\n",
            "51/51 [==============================] - 0s 8ms/step - loss: 0.0014\n",
            "Epoch 9/50\n",
            "51/51 [==============================] - 0s 8ms/step - loss: 0.0013\n",
            "Epoch 10/50\n",
            "51/51 [==============================] - 0s 8ms/step - loss: 0.0013\n",
            "Epoch 11/50\n",
            "51/51 [==============================] - 0s 8ms/step - loss: 0.0012\n",
            "Epoch 12/50\n",
            "51/51 [==============================] - 0s 8ms/step - loss: 0.0012\n",
            "Epoch 13/50\n",
            "51/51 [==============================] - 0s 9ms/step - loss: 0.0012\n",
            "Epoch 14/50\n",
            "51/51 [==============================] - 1s 10ms/step - loss: 0.0012\n",
            "Epoch 15/50\n",
            "51/51 [==============================] - 1s 11ms/step - loss: 0.0012\n",
            "Epoch 16/50\n",
            "51/51 [==============================] - 1s 10ms/step - loss: 0.0011\n",
            "Epoch 17/50\n",
            "51/51 [==============================] - 1s 11ms/step - loss: 0.0011\n",
            "Epoch 18/50\n",
            "51/51 [==============================] - 0s 8ms/step - loss: 0.0010\n",
            "Epoch 19/50\n",
            "51/51 [==============================] - 0s 8ms/step - loss: 0.0010\n",
            "Epoch 20/50\n",
            "51/51 [==============================] - 0s 7ms/step - loss: 9.4124e-04\n",
            "Epoch 21/50\n",
            "51/51 [==============================] - 0s 8ms/step - loss: 9.6287e-04\n",
            "Epoch 22/50\n",
            "51/51 [==============================] - 0s 8ms/step - loss: 8.9674e-04\n",
            "Epoch 23/50\n",
            "51/51 [==============================] - 0s 7ms/step - loss: 9.7426e-04\n",
            "Epoch 24/50\n",
            "51/51 [==============================] - 0s 8ms/step - loss: 9.4861e-04\n",
            "Epoch 25/50\n",
            "51/51 [==============================] - 0s 8ms/step - loss: 9.7293e-04\n",
            "Epoch 26/50\n",
            "51/51 [==============================] - 0s 7ms/step - loss: 8.5471e-04\n",
            "Epoch 27/50\n",
            "51/51 [==============================] - 0s 8ms/step - loss: 8.9701e-04\n",
            "Epoch 28/50\n",
            "51/51 [==============================] - 0s 8ms/step - loss: 8.3928e-04\n",
            "Epoch 29/50\n",
            "51/51 [==============================] - 0s 8ms/step - loss: 9.4247e-04\n",
            "Epoch 30/50\n",
            "51/51 [==============================] - 0s 7ms/step - loss: 8.3391e-04\n",
            "Epoch 31/50\n",
            "51/51 [==============================] - 0s 7ms/step - loss: 8.5012e-04\n",
            "Epoch 32/50\n",
            "51/51 [==============================] - 0s 8ms/step - loss: 7.7042e-04\n",
            "Epoch 33/50\n",
            "51/51 [==============================] - 0s 8ms/step - loss: 7.5196e-04\n",
            "Epoch 34/50\n",
            "51/51 [==============================] - 0s 7ms/step - loss: 7.1821e-04\n",
            "Epoch 35/50\n",
            "51/51 [==============================] - 0s 8ms/step - loss: 7.8211e-04\n",
            "Epoch 36/50\n",
            "51/51 [==============================] - 0s 7ms/step - loss: 7.0640e-04\n",
            "Epoch 37/50\n",
            "51/51 [==============================] - 0s 8ms/step - loss: 7.5439e-04\n",
            "Epoch 38/50\n",
            "51/51 [==============================] - 0s 7ms/step - loss: 6.8967e-04\n",
            "Epoch 39/50\n",
            "51/51 [==============================] - 0s 8ms/step - loss: 6.9794e-04\n",
            "Epoch 40/50\n",
            "51/51 [==============================] - 0s 8ms/step - loss: 6.9678e-04\n",
            "Epoch 41/50\n",
            "51/51 [==============================] - 0s 7ms/step - loss: 6.7626e-04\n",
            "Epoch 42/50\n",
            "51/51 [==============================] - 0s 8ms/step - loss: 6.6250e-04\n",
            "Epoch 43/50\n",
            "51/51 [==============================] - 1s 11ms/step - loss: 6.9410e-04\n",
            "Epoch 44/50\n",
            "51/51 [==============================] - 1s 11ms/step - loss: 6.4862e-04\n",
            "Epoch 45/50\n",
            "51/51 [==============================] - 1s 11ms/step - loss: 5.8826e-04\n",
            "Epoch 46/50\n",
            "51/51 [==============================] - 1s 11ms/step - loss: 6.8964e-04\n",
            "Epoch 47/50\n",
            "51/51 [==============================] - 0s 8ms/step - loss: 6.1819e-04\n",
            "Epoch 48/50\n",
            "51/51 [==============================] - 0s 8ms/step - loss: 6.4553e-04\n",
            "Epoch 49/50\n",
            "51/51 [==============================] - 0s 8ms/step - loss: 5.5378e-04\n",
            "Epoch 50/50\n",
            "51/51 [==============================] - 0s 8ms/step - loss: 6.2610e-04\n"
          ]
        },
        {
          "output_type": "execute_result",
          "data": {
            "text/plain": [
              "<keras.callbacks.History at 0x7f9dcb4f91e0>"
            ]
          },
          "metadata": {},
          "execution_count": 3
        }
      ]
    },
    {
      "cell_type": "code",
      "source": [
        "# モデルの予測結果をテキストとして表示（最新の10日間のみ）\n",
        "for i in range(len(predicted_stock_price)-10, len(predicted_stock_price)):\n",
        "    print(f\"Date: {data.index[len(data)-len(predicted_stock_price)+i]} - Actual price {close_price[len(data)-len(predicted_stock_price)+i][0]}, Predicted price {predicted_stock_price[i][0]}\")"
      ],
      "metadata": {
        "id": "_-IMzT5IjYxv"
      },
      "execution_count": null,
      "outputs": []
    },
    {
      "cell_type": "code",
      "source": [
        "import pandas as pd\n",
        "import holidays\n",
        "\n",
        "# 日本の祝日のリストを取得\n",
        "jp_holidays = holidays.Japan(years=list(range(2000, 2025))).keys()\n",
        "jp_holidays = [pd.to_datetime(date) for date in jp_holidays]\n",
        "\n",
        "# カスタムビジネスデイカレンダーを作成\n",
        "custom_business_day = pd.offsets.CustomBusinessDay(holidays=jp_holidays)\n",
        "\n",
        "# 次の営業日を取得\n",
        "next_business_day = pd.to_datetime(today) + custom_business_day\n",
        "\n",
        "# 最新の60日間のデータを用いて次の日の株価を予測\n",
        "last_60_days = close_price_scaled[-60:]\n",
        "last_60_days = np.reshape(last_60_days, (1, 60, 1))\n",
        "next_day_price = model.predict(last_60_days)\n",
        "next_day_price = scaler.inverse_transform(next_day_price)\n",
        "\n",
        "print(f\"Predicted price for {next_business_day.strftime('%Y-%m-%d')}: {next_day_price[0][0]}\")\n",
        "\n",
        "# モデルの精度（整合率）の計算\n",
        "mse = np.mean((real_stock_price.flatten() - predicted_stock_price.flatten()) ** 2)\n",
        "accuracy = 1 - mse / np.var(real_stock_price.flatten())\n",
        "\n",
        "print(f'モデル精度: {accuracy * 100:.2f}%')"
      ],
      "metadata": {
        "id": "4JCsiXw1jdO5"
      },
      "execution_count": null,
      "outputs": []
    }
  ]
}